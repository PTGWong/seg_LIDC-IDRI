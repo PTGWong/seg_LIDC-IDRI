{
 "cells": [
  {
   "cell_type": "markdown",
   "metadata": {},
   "source": [
    "# Create label for training in future"
   ]
  },
  {
   "cell_type": "code",
   "execution_count": 16,
   "metadata": {},
   "outputs": [],
   "source": [
    "import pandas as pd\n",
    "import numpy as np\n",
    "from sklearn.model_selection import train_test_split"
   ]
  },
  {
   "cell_type": "code",
   "execution_count": 17,
   "metadata": {},
   "outputs": [],
   "source": [
    "meta = pd.read_csv('/home/conrad/PycharmProjects/LIDC-IDRI-Preprocessing/data/Meta/Metameta_info.csv')"
   ]
  },
  {
   "cell_type": "code",
   "execution_count": 18,
   "metadata": {},
   "outputs": [
    {
     "data": {
      "text/html": [
       "<div>\n",
       "<style scoped>\n",
       "    .dataframe tbody tr th:only-of-type {\n",
       "        vertical-align: middle;\n",
       "    }\n",
       "\n",
       "    .dataframe tbody tr th {\n",
       "        vertical-align: top;\n",
       "    }\n",
       "\n",
       "    .dataframe thead th {\n",
       "        text-align: right;\n",
       "    }\n",
       "</style>\n",
       "<table border=\"1\" class=\"dataframe\">\n",
       "  <thead>\n",
       "    <tr style=\"text-align: right;\">\n",
       "      <th></th>\n",
       "      <th>patient_id</th>\n",
       "      <th>nodule_no</th>\n",
       "      <th>slice_no</th>\n",
       "      <th>original_image</th>\n",
       "      <th>mask_image</th>\n",
       "      <th>malignancy</th>\n",
       "      <th>is_cancer</th>\n",
       "      <th>is_clean</th>\n",
       "    </tr>\n",
       "  </thead>\n",
       "  <tbody>\n",
       "    <tr>\n",
       "      <th>0</th>\n",
       "      <td>1</td>\n",
       "      <td>0</td>\n",
       "      <td>0</td>\n",
       "      <td>0001_NI000_slice000</td>\n",
       "      <td>0001_MA000_slice000</td>\n",
       "      <td>5</td>\n",
       "      <td>True</td>\n",
       "      <td>False</td>\n",
       "    </tr>\n",
       "    <tr>\n",
       "      <th>1</th>\n",
       "      <td>1</td>\n",
       "      <td>0</td>\n",
       "      <td>1</td>\n",
       "      <td>0001_NI000_slice001</td>\n",
       "      <td>0001_MA000_slice001</td>\n",
       "      <td>5</td>\n",
       "      <td>True</td>\n",
       "      <td>False</td>\n",
       "    </tr>\n",
       "    <tr>\n",
       "      <th>2</th>\n",
       "      <td>1</td>\n",
       "      <td>0</td>\n",
       "      <td>2</td>\n",
       "      <td>0001_NI000_slice002</td>\n",
       "      <td>0001_MA000_slice002</td>\n",
       "      <td>5</td>\n",
       "      <td>True</td>\n",
       "      <td>False</td>\n",
       "    </tr>\n",
       "    <tr>\n",
       "      <th>3</th>\n",
       "      <td>1</td>\n",
       "      <td>0</td>\n",
       "      <td>3</td>\n",
       "      <td>0001_NI000_slice003</td>\n",
       "      <td>0001_MA000_slice003</td>\n",
       "      <td>5</td>\n",
       "      <td>True</td>\n",
       "      <td>False</td>\n",
       "    </tr>\n",
       "    <tr>\n",
       "      <th>4</th>\n",
       "      <td>1</td>\n",
       "      <td>0</td>\n",
       "      <td>4</td>\n",
       "      <td>0001_NI000_slice004</td>\n",
       "      <td>0001_MA000_slice004</td>\n",
       "      <td>5</td>\n",
       "      <td>True</td>\n",
       "      <td>False</td>\n",
       "    </tr>\n",
       "  </tbody>\n",
       "</table>\n",
       "</div>"
      ],
      "text/plain": [
       "   patient_id  nodule_no  slice_no       original_image           mask_image  \\\n",
       "0           1          0         0  0001_NI000_slice000  0001_MA000_slice000   \n",
       "1           1          0         1  0001_NI000_slice001  0001_MA000_slice001   \n",
       "2           1          0         2  0001_NI000_slice002  0001_MA000_slice002   \n",
       "3           1          0         3  0001_NI000_slice003  0001_MA000_slice003   \n",
       "4           1          0         4  0001_NI000_slice004  0001_MA000_slice004   \n",
       "\n",
       "   malignancy is_cancer  is_clean  \n",
       "0           5      True     False  \n",
       "1           5      True     False  \n",
       "2           5      True     False  \n",
       "3           5      True     False  \n",
       "4           5      True     False  "
      ]
     },
     "execution_count": 18,
     "metadata": {},
     "output_type": "execute_result"
    }
   ],
   "source": [
    "meta.head()"
   ]
  },
  {
   "cell_type": "code",
   "execution_count": 19,
   "metadata": {},
   "outputs": [],
   "source": [
    "# NI= Nodule Image, MA = Mask Original , CN = Clean Nodule , CM = Clean Mask"
   ]
  },
  {
   "cell_type": "code",
   "execution_count": 20,
   "metadata": {},
   "outputs": [],
   "source": [
    "def is_nodule(row):\n",
    "\n",
    "    \n",
    "     if row[20:22] =='NI':\n",
    "         return True\n",
    "     else:\n",
    "         return False"
   ]
  },
  {
   "cell_type": "code",
   "execution_count": 21,
   "metadata": {
    "scrolled": true
   },
   "outputs": [],
   "source": [
    "meta['is_nodule']= meta['original_image'].apply(lambda row: is_nodule(row))"
   ]
  },
  {
   "cell_type": "code",
   "execution_count": 22,
   "metadata": {},
   "outputs": [],
   "source": [
    "# Lets separate Clean meta and meta data\n",
    "clean_meta = meta[meta['is_nodule']==False]\n",
    "clean_meta.reset_index(inplace=True)\n",
    "meta = meta[meta['is_nodule']==True]\n",
    "meta.reset_index(inplace=True)"
   ]
  },
  {
   "cell_type": "code",
   "execution_count": 23,
   "metadata": {},
   "outputs": [
    {
     "data": {
      "text/html": [
       "<div>\n",
       "<style scoped>\n",
       "    .dataframe tbody tr th:only-of-type {\n",
       "        vertical-align: middle;\n",
       "    }\n",
       "\n",
       "    .dataframe tbody tr th {\n",
       "        vertical-align: top;\n",
       "    }\n",
       "\n",
       "    .dataframe thead th {\n",
       "        text-align: right;\n",
       "    }\n",
       "</style>\n",
       "<table border=\"1\" class=\"dataframe\">\n",
       "  <thead>\n",
       "    <tr style=\"text-align: right;\">\n",
       "      <th></th>\n",
       "      <th>index</th>\n",
       "      <th>patient_id</th>\n",
       "      <th>nodule_no</th>\n",
       "      <th>slice_no</th>\n",
       "      <th>original_image</th>\n",
       "      <th>mask_image</th>\n",
       "      <th>malignancy</th>\n",
       "      <th>is_cancer</th>\n",
       "      <th>is_clean</th>\n",
       "      <th>is_nodule</th>\n",
       "    </tr>\n",
       "  </thead>\n",
       "  <tbody>\n",
       "    <tr>\n",
       "      <th>0</th>\n",
       "      <td>0</td>\n",
       "      <td>1</td>\n",
       "      <td>0</td>\n",
       "      <td>0</td>\n",
       "      <td>0001_NI000_slice000</td>\n",
       "      <td>0001_MA000_slice000</td>\n",
       "      <td>5</td>\n",
       "      <td>True</td>\n",
       "      <td>False</td>\n",
       "      <td>False</td>\n",
       "    </tr>\n",
       "    <tr>\n",
       "      <th>1</th>\n",
       "      <td>1</td>\n",
       "      <td>1</td>\n",
       "      <td>0</td>\n",
       "      <td>1</td>\n",
       "      <td>0001_NI000_slice001</td>\n",
       "      <td>0001_MA000_slice001</td>\n",
       "      <td>5</td>\n",
       "      <td>True</td>\n",
       "      <td>False</td>\n",
       "      <td>False</td>\n",
       "    </tr>\n",
       "    <tr>\n",
       "      <th>2</th>\n",
       "      <td>2</td>\n",
       "      <td>1</td>\n",
       "      <td>0</td>\n",
       "      <td>2</td>\n",
       "      <td>0001_NI000_slice002</td>\n",
       "      <td>0001_MA000_slice002</td>\n",
       "      <td>5</td>\n",
       "      <td>True</td>\n",
       "      <td>False</td>\n",
       "      <td>False</td>\n",
       "    </tr>\n",
       "    <tr>\n",
       "      <th>3</th>\n",
       "      <td>3</td>\n",
       "      <td>1</td>\n",
       "      <td>0</td>\n",
       "      <td>3</td>\n",
       "      <td>0001_NI000_slice003</td>\n",
       "      <td>0001_MA000_slice003</td>\n",
       "      <td>5</td>\n",
       "      <td>True</td>\n",
       "      <td>False</td>\n",
       "      <td>False</td>\n",
       "    </tr>\n",
       "    <tr>\n",
       "      <th>4</th>\n",
       "      <td>4</td>\n",
       "      <td>1</td>\n",
       "      <td>0</td>\n",
       "      <td>4</td>\n",
       "      <td>0001_NI000_slice004</td>\n",
       "      <td>0001_MA000_slice004</td>\n",
       "      <td>5</td>\n",
       "      <td>True</td>\n",
       "      <td>False</td>\n",
       "      <td>False</td>\n",
       "    </tr>\n",
       "  </tbody>\n",
       "</table>\n",
       "</div>"
      ],
      "text/plain": [
       "   index  patient_id  nodule_no  slice_no       original_image  \\\n",
       "0      0           1          0         0  0001_NI000_slice000   \n",
       "1      1           1          0         1  0001_NI000_slice001   \n",
       "2      2           1          0         2  0001_NI000_slice002   \n",
       "3      3           1          0         3  0001_NI000_slice003   \n",
       "4      4           1          0         4  0001_NI000_slice004   \n",
       "\n",
       "            mask_image  malignancy is_cancer  is_clean  is_nodule  \n",
       "0  0001_MA000_slice000           5      True     False      False  \n",
       "1  0001_MA000_slice001           5      True     False      False  \n",
       "2  0001_MA000_slice002           5      True     False      False  \n",
       "3  0001_MA000_slice003           5      True     False      False  \n",
       "4  0001_MA000_slice004           5      True     False      False  "
      ]
     },
     "execution_count": 23,
     "metadata": {},
     "output_type": "execute_result"
    }
   ],
   "source": [
    "clean_meta.head()"
   ]
  },
  {
   "cell_type": "code",
   "execution_count": 24,
   "metadata": {},
   "outputs": [
    {
     "data": {
      "text/html": [
       "<div>\n",
       "<style scoped>\n",
       "    .dataframe tbody tr th:only-of-type {\n",
       "        vertical-align: middle;\n",
       "    }\n",
       "\n",
       "    .dataframe tbody tr th {\n",
       "        vertical-align: top;\n",
       "    }\n",
       "\n",
       "    .dataframe thead th {\n",
       "        text-align: right;\n",
       "    }\n",
       "</style>\n",
       "<table border=\"1\" class=\"dataframe\">\n",
       "  <thead>\n",
       "    <tr style=\"text-align: right;\">\n",
       "      <th></th>\n",
       "      <th>index</th>\n",
       "      <th>patient_id</th>\n",
       "      <th>nodule_no</th>\n",
       "      <th>slice_no</th>\n",
       "      <th>original_image</th>\n",
       "      <th>mask_image</th>\n",
       "      <th>malignancy</th>\n",
       "      <th>is_cancer</th>\n",
       "      <th>is_clean</th>\n",
       "      <th>is_nodule</th>\n",
       "    </tr>\n",
       "  </thead>\n",
       "  <tbody>\n",
       "  </tbody>\n",
       "</table>\n",
       "</div>"
      ],
      "text/plain": [
       "Empty DataFrame\n",
       "Columns: [index, patient_id, nodule_no, slice_no, original_image, mask_image, malignancy, is_cancer, is_clean, is_nodule]\n",
       "Index: []"
      ]
     },
     "execution_count": 24,
     "metadata": {},
     "output_type": "execute_result"
    }
   ],
   "source": [
    "meta.head()"
   ]
  },
  {
   "cell_type": "code",
   "execution_count": 25,
   "metadata": {},
   "outputs": [],
   "source": [
    "def is_train(row,train,val,test):\n",
    "    if row in train:\n",
    "        return 'Train'\n",
    "    elif row in val:\n",
    "        return 'Validation'\n",
    "    else:\n",
    "        return 'Test'"
   ]
  },
  {
   "cell_type": "code",
   "execution_count": 26,
   "metadata": {},
   "outputs": [],
   "source": [
    "\n",
    "clean_patient_id = list(np.unique(clean_meta['patient_id']))\n",
    "meta_patient_id = list(np.unique(meta['patient_id']))"
   ]
  },
  {
   "cell_type": "code",
   "execution_count": 27,
   "metadata": {},
   "outputs": [],
   "source": [
    "def create_label_segmentation(meta):\n",
    "    patient_id = list(np.unique(meta['patient_id']))\n",
    "    train_patient , test_patient = train_test_split(patient_id,test_size= 0.2)\n",
    "    train_patient, val_patient = train_test_split(train_patient,test_size= 0.25)\n",
    "    print(len(train_patient),len(val_patient),len(test_patient))\n",
    "    \n",
    "    meta['data_split']= meta['patient_id'].apply(lambda row : is_train(row,train_patient,val_patient,test_patient))\n",
    "    \n",
    "    return meta"
   ]
  },
  {
   "cell_type": "code",
   "execution_count": 28,
   "metadata": {},
   "outputs": [
    {
     "name": "stdout",
     "output_type": "stream",
     "text": [
      "330 110 110\n"
     ]
    }
   ],
   "source": [
    "# We need to train/test split independently for clean_meta, meta\n",
    "# meta = create_label_segmentation(meta)\n",
    "clean_meta = create_label_segmentation(clean_meta)"
   ]
  },
  {
   "cell_type": "code",
   "execution_count": 29,
   "metadata": {},
   "outputs": [
    {
     "data": {
      "text/html": [
       "<div>\n",
       "<style scoped>\n",
       "    .dataframe tbody tr th:only-of-type {\n",
       "        vertical-align: middle;\n",
       "    }\n",
       "\n",
       "    .dataframe tbody tr th {\n",
       "        vertical-align: top;\n",
       "    }\n",
       "\n",
       "    .dataframe thead th {\n",
       "        text-align: right;\n",
       "    }\n",
       "</style>\n",
       "<table border=\"1\" class=\"dataframe\">\n",
       "  <thead>\n",
       "    <tr style=\"text-align: right;\">\n",
       "      <th></th>\n",
       "      <th>index</th>\n",
       "      <th>patient_id</th>\n",
       "      <th>nodule_no</th>\n",
       "      <th>slice_no</th>\n",
       "      <th>original_image</th>\n",
       "      <th>mask_image</th>\n",
       "      <th>malignancy</th>\n",
       "      <th>is_cancer</th>\n",
       "      <th>is_clean</th>\n",
       "      <th>is_nodule</th>\n",
       "    </tr>\n",
       "  </thead>\n",
       "  <tbody>\n",
       "  </tbody>\n",
       "</table>\n",
       "</div>"
      ],
      "text/plain": [
       "Empty DataFrame\n",
       "Columns: [index, patient_id, nodule_no, slice_no, original_image, mask_image, malignancy, is_cancer, is_clean, is_nodule]\n",
       "Index: []"
      ]
     },
     "execution_count": 29,
     "metadata": {},
     "output_type": "execute_result"
    }
   ],
   "source": [
    "meta.head()"
   ]
  },
  {
   "cell_type": "code",
   "execution_count": 30,
   "metadata": {
    "scrolled": true
   },
   "outputs": [
    {
     "data": {
      "text/html": [
       "<div>\n",
       "<style scoped>\n",
       "    .dataframe tbody tr th:only-of-type {\n",
       "        vertical-align: middle;\n",
       "    }\n",
       "\n",
       "    .dataframe tbody tr th {\n",
       "        vertical-align: top;\n",
       "    }\n",
       "\n",
       "    .dataframe thead th {\n",
       "        text-align: right;\n",
       "    }\n",
       "</style>\n",
       "<table border=\"1\" class=\"dataframe\">\n",
       "  <thead>\n",
       "    <tr style=\"text-align: right;\">\n",
       "      <th></th>\n",
       "      <th>index</th>\n",
       "      <th>patient_id</th>\n",
       "      <th>nodule_no</th>\n",
       "      <th>slice_no</th>\n",
       "      <th>original_image</th>\n",
       "      <th>mask_image</th>\n",
       "      <th>malignancy</th>\n",
       "      <th>is_cancer</th>\n",
       "      <th>is_clean</th>\n",
       "      <th>is_nodule</th>\n",
       "      <th>data_split</th>\n",
       "    </tr>\n",
       "  </thead>\n",
       "  <tbody>\n",
       "    <tr>\n",
       "      <th>0</th>\n",
       "      <td>0</td>\n",
       "      <td>1</td>\n",
       "      <td>0</td>\n",
       "      <td>0</td>\n",
       "      <td>0001_NI000_slice000</td>\n",
       "      <td>0001_MA000_slice000</td>\n",
       "      <td>5</td>\n",
       "      <td>True</td>\n",
       "      <td>False</td>\n",
       "      <td>False</td>\n",
       "      <td>Train</td>\n",
       "    </tr>\n",
       "    <tr>\n",
       "      <th>1</th>\n",
       "      <td>1</td>\n",
       "      <td>1</td>\n",
       "      <td>0</td>\n",
       "      <td>1</td>\n",
       "      <td>0001_NI000_slice001</td>\n",
       "      <td>0001_MA000_slice001</td>\n",
       "      <td>5</td>\n",
       "      <td>True</td>\n",
       "      <td>False</td>\n",
       "      <td>False</td>\n",
       "      <td>Train</td>\n",
       "    </tr>\n",
       "    <tr>\n",
       "      <th>2</th>\n",
       "      <td>2</td>\n",
       "      <td>1</td>\n",
       "      <td>0</td>\n",
       "      <td>2</td>\n",
       "      <td>0001_NI000_slice002</td>\n",
       "      <td>0001_MA000_slice002</td>\n",
       "      <td>5</td>\n",
       "      <td>True</td>\n",
       "      <td>False</td>\n",
       "      <td>False</td>\n",
       "      <td>Train</td>\n",
       "    </tr>\n",
       "    <tr>\n",
       "      <th>3</th>\n",
       "      <td>3</td>\n",
       "      <td>1</td>\n",
       "      <td>0</td>\n",
       "      <td>3</td>\n",
       "      <td>0001_NI000_slice003</td>\n",
       "      <td>0001_MA000_slice003</td>\n",
       "      <td>5</td>\n",
       "      <td>True</td>\n",
       "      <td>False</td>\n",
       "      <td>False</td>\n",
       "      <td>Train</td>\n",
       "    </tr>\n",
       "    <tr>\n",
       "      <th>4</th>\n",
       "      <td>4</td>\n",
       "      <td>1</td>\n",
       "      <td>0</td>\n",
       "      <td>4</td>\n",
       "      <td>0001_NI000_slice004</td>\n",
       "      <td>0001_MA000_slice004</td>\n",
       "      <td>5</td>\n",
       "      <td>True</td>\n",
       "      <td>False</td>\n",
       "      <td>False</td>\n",
       "      <td>Train</td>\n",
       "    </tr>\n",
       "  </tbody>\n",
       "</table>\n",
       "</div>"
      ],
      "text/plain": [
       "   index  patient_id  nodule_no  slice_no       original_image  \\\n",
       "0      0           1          0         0  0001_NI000_slice000   \n",
       "1      1           1          0         1  0001_NI000_slice001   \n",
       "2      2           1          0         2  0001_NI000_slice002   \n",
       "3      3           1          0         3  0001_NI000_slice003   \n",
       "4      4           1          0         4  0001_NI000_slice004   \n",
       "\n",
       "            mask_image  malignancy is_cancer  is_clean  is_nodule data_split  \n",
       "0  0001_MA000_slice000           5      True     False      False      Train  \n",
       "1  0001_MA000_slice001           5      True     False      False      Train  \n",
       "2  0001_MA000_slice002           5      True     False      False      Train  \n",
       "3  0001_MA000_slice003           5      True     False      False      Train  \n",
       "4  0001_MA000_slice004           5      True     False      False      Train  "
      ]
     },
     "execution_count": 30,
     "metadata": {},
     "output_type": "execute_result"
    }
   ],
   "source": [
    "clean_meta.head()"
   ]
  },
  {
   "cell_type": "code",
   "execution_count": 31,
   "metadata": {},
   "outputs": [],
   "source": [
    "# Clean Meta only stores meta information of patients without nodules."
   ]
  },
  {
   "cell_type": "code",
   "execution_count": 34,
   "metadata": {},
   "outputs": [],
   "source": [
    "# meta.to_csv('/home/LUNG_DATA/meta_csv/meta.csv')\n",
    "clean_meta.to_csv('/media/conrad/90FA710BFA70EF3A/Conrad/Download/datasets/pre/data/Clean/Meta/clean_meta.csv')"
   ]
  },
  {
   "cell_type": "code",
   "execution_count": null,
   "metadata": {},
   "outputs": [],
   "source": []
  }
 ],
 "metadata": {
  "kernelspec": {
   "display_name": "Python 3",
   "language": "python",
   "name": "python3"
  },
  "language_info": {
   "codemirror_mode": {
    "name": "ipython",
    "version": 3
   },
   "file_extension": ".py",
   "mimetype": "text/x-python",
   "name": "python",
   "nbconvert_exporter": "python",
   "pygments_lexer": "ipython3",
   "version": "3.7.6"
  }
 },
 "nbformat": 4,
 "nbformat_minor": 4
}
